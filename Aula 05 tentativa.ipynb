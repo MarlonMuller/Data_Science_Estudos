{
 "cells": [
  {
   "cell_type": "markdown",
   "metadata": {},
   "source": [
    "# Limpeza dos dados"
   ]
  },
  {
   "cell_type": "code",
   "execution_count": null,
   "metadata": {
    "ExecuteTime": {
     "end_time": "2021-02-03T23:42:30.435500Z",
     "start_time": "2021-02-03T23:42:30.421507Z"
    }
   },
   "outputs": [],
   "source": [
    "# verificando a quantidade de dados duplicados\n",
    "data['id'].duplicated().value_counts()"
   ]
  },
  {
   "cell_type": "code",
   "execution_count": null,
   "metadata": {
    "ExecuteTime": {
     "end_time": "2021-02-03T23:42:31.165317Z",
     "start_time": "2021-02-03T23:42:31.094360Z"
    },
    "scrolled": true
   },
   "outputs": [],
   "source": [
    "# removendo as linhas duplicadas\n",
    "data.drop_duplicates(subset='id', keep='last', inplace=True)\n",
    "\n",
    "# verificando o resultado após a remoção dos dados duplicados\n",
    "data.duplicated().value_counts()"
   ]
  },
  {
   "cell_type": "markdown",
   "metadata": {
    "ExecuteTime": {
     "end_time": "2021-02-04T20:51:01.868148Z",
     "start_time": "2021-02-04T20:51:01.863150Z"
    }
   },
   "source": [
    "# Exercícios:"
   ]
  },
  {
   "cell_type": "markdown",
   "metadata": {},
   "source": [
    "## 1. Organizar o código da aula 04 em funções."
   ]
  },
  {
   "cell_type": "markdown",
   "metadata": {},
   "source": [
    "### ANTES (como foi criado na aula 04)\n",
    "* Código 1 (mapa)"
   ]
  },
  {
   "cell_type": "code",
   "execution_count": 9,
   "metadata": {
    "ExecuteTime": {
     "end_time": "2021-02-05T23:17:09.842119Z",
     "start_time": "2021-02-05T23:17:09.835121Z"
    }
   },
   "outputs": [],
   "source": [
    "import pandas as pd\n",
    "import ipywidgets as widgets\n",
    "from ipywidgets import fixed\n",
    "import plotly.express as px # biblioteca para mapas"
   ]
  },
  {
   "cell_type": "code",
   "execution_count": 10,
   "metadata": {
    "ExecuteTime": {
     "end_time": "2021-02-05T23:17:10.448654Z",
     "start_time": "2021-02-05T23:17:10.355710Z"
    }
   },
   "outputs": [],
   "source": [
    "df = pd.read_csv('datasets/kc_house_data.csv')"
   ]
  },
  {
   "cell_type": "code",
   "execution_count": 11,
   "metadata": {
    "ExecuteTime": {
     "end_time": "2021-02-05T23:17:13.267724Z",
     "start_time": "2021-02-05T23:17:13.133805Z"
    }
   },
   "outputs": [],
   "source": [
    "df['level'] = df['price'].apply( lambda x:0 if x< 321950 else\n",
    "                                          1 if( x > 321950) & ( x < 450000) else\n",
    "                                          2 if( x > 450000) & ( x < 645000) else 3)\n",
    "\n",
    "\n",
    "df['condition_type'] = df['condition'].apply( lambda x: 'bad' if x <= 2  else\n",
    "                                                        'good' if x == 5 else\n",
    "                                                        'regular' )\n",
    "\n",
    "\n",
    "style = {'description_width': 'initial'}\n",
    "\n",
    "# Iterative buttons 1\n",
    "living_room_size = widgets.IntSlider(\n",
    "    value = 13540,\n",
    "    min = 290,\n",
    "    max = 13540,\n",
    "    step = 1,\n",
    "    description='Minimum living size',\n",
    "    disable=False,\n",
    "    style = style\n",
    ")\n",
    "\n",
    "# Iterative buttons 2\n",
    "minimum_bathrooms = widgets.IntSlider(\n",
    "    value = 8,\n",
    "    min = 0,\n",
    "    max = 8,\n",
    "    step = 1,\n",
    "    description='Minimum number of bathrooms',\n",
    "    disable=False,\n",
    "    style = style\n",
    ")\n",
    "\n",
    "# Iterative buttons 3\n",
    "maximum_price = widgets.IntSlider(\n",
    "    value = 7700000,\n",
    "    min = 75000,\n",
    "    max = 7700000,\n",
    "    step = 1,\n",
    "    description='Maximum price',\n",
    "    disable=False,\n",
    "    style = style\n",
    ")\n",
    "\n",
    "# Iterative buttons 4\n",
    "maximum_basement_area_size = widgets.IntSlider(\n",
    "    value = 4820,\n",
    "    min = 0,\n",
    "    max = 4820,\n",
    "    step = 1,\n",
    "    description='Maximum basement area size',\n",
    "    disable=False,\n",
    "    style = style\n",
    ")\n",
    "\n",
    "# Iterative buttons 5\n",
    "condition_type = widgets.Dropdown(\n",
    "    options= df['condition_type'].unique().tolist(),\n",
    "    value='good',\n",
    "    description='Condition',\n",
    "    disable=False\n",
    ")\n",
    "\n",
    "# Iterative buttons 6\n",
    "yr_built_select = widgets.Dropdown(\n",
    "    options= df['yr_built'].unique().tolist(),\n",
    "    value=1900,\n",
    "    description='Yr_built',\n",
    "    disable=False\n",
    ")\n",
    "\n",
    "##############################################################################################################################\n",
    "\n",
    "def update_map( df, living_room_limit, minimum_bathrooms_limit, maximum_price_limit, maximum_basement_area_size_limit,\n",
    "              condition_type_defined, yr_built_select_defined):\n",
    "    houses = df[(df['sqft_living'] <= living_room_limit) & \n",
    "                (df['bathrooms'] <= minimum_bathrooms_limit) &\n",
    "                (df['price'] <= maximum_price_limit) &\n",
    "                (df['sqft_basement'] <= maximum_basement_area_size_limit) &\n",
    "                (df['condition_type'] == condition_type_defined) &\n",
    "                (df['yr_built'] == yr_built_select_defined)]\n",
    "    \n",
    "##############################################################################################################################\n",
    "\n",
    "    # plotando o gráfico\n",
    "    fig = px.scatter_mapbox(houses,\n",
    "                            lat='lat',\n",
    "                            lon='long',\n",
    "                            color='level',\n",
    "                            size='price',\n",
    "                            color_continuous_scale=px.colors.cyclical.IceFire,\n",
    "                            size_max=15,\n",
    "                            zoom=10 )\n",
    "                        \n",
    "    fig.update_layout( mapbox_style='open-street-map')\n",
    "    fig.update_layout( height=600, margin={'r':0, 't':0, 'l':0, 'b':0})\n",
    "    fig.show()"
   ]
  },
  {
   "cell_type": "code",
   "execution_count": 12,
   "metadata": {
    "ExecuteTime": {
     "end_time": "2021-02-05T23:17:16.638177Z",
     "start_time": "2021-02-05T23:17:14.986306Z"
    },
    "scrolled": true
   },
   "outputs": [
    {
     "data": {
      "application/vnd.jupyter.widget-view+json": {
       "model_id": "df65b8520afe42f191ab27976360e79f",
       "version_major": 2,
       "version_minor": 0
      },
      "text/plain": [
       "interactive(children=(IntSlider(value=13540, description='Minimum living size', max=13540, min=290, style=Slid…"
      ]
     },
     "metadata": {},
     "output_type": "display_data"
    }
   ],
   "source": [
    "widgets.interactive( update_map, df=fixed( df ), living_room_limit=living_room_size, minimum_bathrooms_limit=minimum_bathrooms,\n",
    "                   maximum_price_limit=maximum_price, maximum_basement_area_size_limit=maximum_basement_area_size, \n",
    "                    condition_type_defined=condition_type, yr_built_select_defined=yr_built_select)"
   ]
  },
  {
   "cell_type": "markdown",
   "metadata": {
    "ExecuteTime": {
     "end_time": "2021-02-04T21:02:44.323161Z",
     "start_time": "2021-02-04T21:02:44.316165Z"
    }
   },
   "source": [
    "### DEPOIS  (códigos formatados seguindo a lógica de ETL)\n",
    "* Código 1 (mapa)"
   ]
  },
  {
   "cell_type": "code",
   "execution_count": 6,
   "metadata": {
    "ExecuteTime": {
     "end_time": "2021-02-05T23:16:40.233410Z",
     "start_time": "2021-02-05T23:16:39.947589Z"
    },
    "scrolled": true
   },
   "outputs": [
    {
     "ename": "TypeError",
     "evalue": "data_load() missing 6 required positional arguments: 'living_room_limit', 'minimum_bathrooms_limit', 'maximum_price_limit', 'maximum_basement_area_size_limit', 'condition_type_defined', and 'yr_built_select_defined'",
     "output_type": "error",
     "traceback": [
      "\u001b[1;31m---------------------------------------------------------------------------\u001b[0m",
      "\u001b[1;31mTypeError\u001b[0m                                 Traceback (most recent call last)",
      "\u001b[1;32m<ipython-input-6-7ed8ab267ee1>\u001b[0m in \u001b[0;36m<module>\u001b[1;34m\u001b[0m\n\u001b[0;32m    131\u001b[0m \u001b[1;33m\u001b[0m\u001b[0m\n\u001b[0;32m    132\u001b[0m \u001b[1;31m#     # Load\u001b[0m\u001b[1;33m\u001b[0m\u001b[1;33m\u001b[0m\u001b[1;33m\u001b[0m\u001b[0m\n\u001b[1;32m--> 133\u001b[1;33m     \u001b[0mdata_load\u001b[0m\u001b[1;33m(\u001b[0m \u001b[0mdata_processing\u001b[0m\u001b[1;33m)\u001b[0m\u001b[1;33m\u001b[0m\u001b[1;33m\u001b[0m\u001b[0m\n\u001b[0m",
      "\u001b[1;31mTypeError\u001b[0m: data_load() missing 6 required positional arguments: 'living_room_limit', 'minimum_bathrooms_limit', 'maximum_price_limit', 'maximum_basement_area_size_limit', 'condition_type_defined', and 'yr_built_select_defined'"
     ]
    }
   ],
   "source": [
    "# Libraries\n",
    "import pandas as pd\n",
    "import ipywidgets as widgets\n",
    "from ipywidgets import fixed\n",
    "import plotly.express as px\n",
    "\n",
    "\n",
    "    # Functions\n",
    "def data_collect( path ):\n",
    "    # Function 1\n",
    "    # load dataset\n",
    "    data = pd.read_csv( path)\n",
    "    \n",
    "    return data\n",
    "\n",
    "\n",
    "def data_transform( data ):\n",
    "    # Function 2: Criar colunas com determinadas condições:\n",
    "    data['level'] = data['price'].apply( lambda x:0 if x< 321950 else\n",
    "                                              1 if( x > 321950) & ( x < 450000) else\n",
    "                                              2 if( x > 450000) & ( x < 645000) else 3)\n",
    "\n",
    "    data['condition_type'] = data['condition'].apply( lambda x: 'bad' if x <= 2  else\n",
    "                                                                'good' if x == 5 else\n",
    "                                                                'regular' )\n",
    "    \n",
    "    # Function 3: Criar botões iterativos para o mapa:\n",
    "    style = {'description_width': 'initial'}\n",
    "    \n",
    "    # Iterative buttons 1\n",
    "    living_room_size = widgets.IntSlider(\n",
    "        value = 13540,\n",
    "        min = 290,\n",
    "        max = 13540,\n",
    "        step = 1,\n",
    "        description='Minimum living size',\n",
    "        disable=False,\n",
    "        style = style)\n",
    "\n",
    "    # Iterative buttons 2\n",
    "    minimum_bathrooms = widgets.IntSlider(\n",
    "        value = 8,\n",
    "        min = 0,\n",
    "        max = 8,\n",
    "        step = 1,\n",
    "        description='Minimum number of bathrooms',\n",
    "        disable=False,\n",
    "        style = style)\n",
    "\n",
    "    # Iterative buttons 3\n",
    "    maximum_price = widgets.IntSlider(\n",
    "        value = 7700000,\n",
    "        min = 75000,\n",
    "        max = 7700000,\n",
    "        step = 1,\n",
    "        description='Maximum price',\n",
    "        disable=False,\n",
    "        style = style)\n",
    "\n",
    "    # Iterative buttons 4\n",
    "    maximum_basement_area_size = widgets.IntSlider(\n",
    "        value = 4820,\n",
    "        min = 0,\n",
    "        max = 4820,\n",
    "        step = 1,\n",
    "        description='Maximum basement area size',\n",
    "        disable=False,\n",
    "        style = style)\n",
    "\n",
    "    # Iterative buttons 5\n",
    "    condition_type = widgets.Dropdown(\n",
    "        options= data['condition_type'].unique().tolist(),\n",
    "        value='good',\n",
    "        description='Condition',\n",
    "        disable=False)\n",
    "\n",
    "    # Iterative buttons 6\n",
    "    yr_built_select = widgets.Dropdown(\n",
    "        options= data['yr_built'].unique().tolist(),\n",
    "        value=1900,\n",
    "        description='Yr_built',\n",
    "        disable=False)\n",
    " \n",
    "    return data \n",
    "\n",
    "\n",
    "def data_load( data, living_room_limit, minimum_bathrooms_limit, maximum_price_limit, maximum_basement_area_size_limit,\n",
    "             condition_type_defined, yr_built_select_defined):\n",
    "   \n",
    "    # Function 4: Definindo filtros e plotando o mapa:\n",
    "    houses = data[(data['sqft_living'] <= living_room_limit) & \n",
    "                (data['bathrooms'] <= minimum_bathrooms_limit) &\n",
    "                (data['price'] <= maximum_price_limit) &\n",
    "                (data['sqft_basement'] <= maximum_basement_area_size_limit) &\n",
    "                (data['condition_type'] == condition_type_defined) &\n",
    "                (data['yr_built'] == yr_built_select_defined)]\n",
    "    \n",
    "    # plotando o gráfico\n",
    "    fig = px.scatter_mapbox(houses,\n",
    "                            lat='lat',\n",
    "                            lon='long',\n",
    "                            color='level',\n",
    "                            size='price',\n",
    "                            color_continuous_scale=px.colors.cyclical.IceFire,\n",
    "                            size_max=15,\n",
    "                            zoom=10 )\n",
    "                        \n",
    "    fig.update_layout( mapbox_style='open-street-map')\n",
    "    fig.update_layout( height=600, margin={'r':0, 't':0, 'l':0, 'b':0})\n",
    "    fig.show()\n",
    "\n",
    "    # Function 5: Mostrando os botões com os filtros definidos: \n",
    "    widgets.interactive(data_load, data=fixed( data ), living_room_limit=living_room_size, \n",
    "                        minimum_bathrooms_limit=minimum_bathrooms, maximum_price_limit=maximum_price, \n",
    "                        maximum_basement_area_size_limit=maximum_basement_area_size, condition_type_defined=condition_type, \n",
    "                        yr_built_select_defined=yr_built_select) \n",
    "    \n",
    "    return None\n",
    "\n",
    "##############################################################################################################################\n",
    "\n",
    "if __name__ == '__main__':\n",
    "    # ETL\n",
    "    \n",
    "    # Collect\n",
    "    #Function 1\n",
    "    data_raw = data_collect( 'datasets/kc_house_data.csv')\n",
    "    \n",
    "    # Transform\n",
    "    data_processing = data_transform( data_raw)\n",
    "    \n",
    "#     # Load\n",
    "    data_load( data_processing)\n"
   ]
  },
  {
   "cell_type": "code",
   "execution_count": null,
   "metadata": {},
   "outputs": [],
   "source": []
  }
 ],
 "metadata": {
  "kernelspec": {
   "display_name": "Python 3",
   "language": "python",
   "name": "python3"
  },
  "language_info": {
   "codemirror_mode": {
    "name": "ipython",
    "version": 3
   },
   "file_extension": ".py",
   "mimetype": "text/x-python",
   "name": "python",
   "nbconvert_exporter": "python",
   "pygments_lexer": "ipython3",
   "version": "3.8.5"
  }
 },
 "nbformat": 4,
 "nbformat_minor": 4
}
