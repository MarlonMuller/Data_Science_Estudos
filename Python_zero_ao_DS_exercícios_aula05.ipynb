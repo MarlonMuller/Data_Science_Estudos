{
 "cells": [
  {
   "cell_type": "markdown",
   "metadata": {
    "heading_collapsed": true
   },
   "source": [
    "# Limpeza dos dados"
   ]
  },
  {
   "cell_type": "code",
   "execution_count": null,
   "metadata": {
    "ExecuteTime": {
     "end_time": "2021-02-10T21:12:26.491529Z",
     "start_time": "2021-02-10T21:12:26.469542Z"
    },
    "hidden": true
   },
   "outputs": [],
   "source": [
    "# verificando a quantidade de dados duplicados\n",
    "data['id'].duplicated().value_counts()"
   ]
  },
  {
   "cell_type": "code",
   "execution_count": null,
   "metadata": {
    "ExecuteTime": {
     "end_time": "2021-02-03T23:42:31.165317Z",
     "start_time": "2021-02-03T23:42:31.094360Z"
    },
    "hidden": true,
    "scrolled": true
   },
   "outputs": [],
   "source": [
    "# removendo as linhas duplicadas\n",
    "data.drop_duplicates(subset='id', keep='last', inplace=True)\n",
    "\n",
    "# verificando o resultado após a remoção dos dados duplicados\n",
    "data.duplicated().value_counts()"
   ]
  },
  {
   "cell_type": "markdown",
   "metadata": {
    "ExecuteTime": {
     "end_time": "2021-02-04T20:51:01.868148Z",
     "start_time": "2021-02-04T20:51:01.863150Z"
    }
   },
   "source": [
    "# Exercícios:"
   ]
  },
  {
   "cell_type": "markdown",
   "metadata": {},
   "source": [
    "## 1. Organizar o código da aula 04 em funções."
   ]
  },
  {
   "cell_type": "markdown",
   "metadata": {
    "heading_collapsed": true
   },
   "source": [
    "### ANTES (como foi criado na aula 04)\n",
    "* Código 1 (mapa)"
   ]
  },
  {
   "cell_type": "code",
   "execution_count": null,
   "metadata": {
    "ExecuteTime": {
     "end_time": "2021-02-04T21:23:58.513873Z",
     "start_time": "2021-02-04T21:23:58.508877Z"
    },
    "hidden": true
   },
   "outputs": [],
   "source": [
    "import pandas as pd"
   ]
  },
  {
   "cell_type": "code",
   "execution_count": null,
   "metadata": {
    "ExecuteTime": {
     "end_time": "2021-02-04T21:23:59.472725Z",
     "start_time": "2021-02-04T21:23:59.376787Z"
    },
    "hidden": true
   },
   "outputs": [],
   "source": [
    "df = pd.read_csv('datasets/kc_house_data.csv')"
   ]
  },
  {
   "cell_type": "code",
   "execution_count": null,
   "metadata": {
    "ExecuteTime": {
     "end_time": "2021-02-04T21:24:00.427578Z",
     "start_time": "2021-02-04T21:24:00.419582Z"
    },
    "hidden": true
   },
   "outputs": [],
   "source": [
    "import ipywidgets as widgets\n",
    "from ipywidgets import fixed\n",
    "import plotly.express as px # biblioteca para mapas"
   ]
  },
  {
   "cell_type": "code",
   "execution_count": null,
   "metadata": {
    "ExecuteTime": {
     "end_time": "2021-02-04T21:24:01.771864Z",
     "start_time": "2021-02-04T21:24:01.633952Z"
    },
    "hidden": true
   },
   "outputs": [],
   "source": [
    "df['level'] = df['price'].apply( lambda x:0 if x< 321950 else\n",
    "                                          1 if( x > 321950) & ( x < 450000) else\n",
    "                                          2 if( x > 450000) & ( x < 645000) else 3)\n",
    "\n",
    "\n",
    "df['condition_type'] = df['condition'].apply( lambda x: 'bad' if x <= 2  else\n",
    "                                                        'good' if x == 5 else\n",
    "                                                        'regular' )\n",
    "\n",
    "\n",
    "style = {'description_width': 'initial'}\n",
    "\n",
    "# Iterative buttons 1\n",
    "living_room_size = widgets.IntSlider(\n",
    "    value = 13540,\n",
    "    min = 290,\n",
    "    max = 13540,\n",
    "    step = 1,\n",
    "    description='Minimum living size',\n",
    "    disable=False,\n",
    "    style = style\n",
    ")\n",
    "\n",
    "# Iterative buttons 2\n",
    "minimum_bathrooms = widgets.IntSlider(\n",
    "    value = 8,\n",
    "    min = 0,\n",
    "    max = 8,\n",
    "    step = 1,\n",
    "    description='Minimum number of bathrooms',\n",
    "    disable=False,\n",
    "    style = style\n",
    ")\n",
    "\n",
    "# Iterative buttons 3\n",
    "maximum_price = widgets.IntSlider(\n",
    "    value = 7700000,\n",
    "    min = 75000,\n",
    "    max = 7700000,\n",
    "    step = 1,\n",
    "    description='Maximum price',\n",
    "    disable=False,\n",
    "    style = style\n",
    ")\n",
    "\n",
    "# Iterative buttons 4\n",
    "maximum_basement_area_size = widgets.IntSlider(\n",
    "    value = 4820,\n",
    "    min = 0,\n",
    "    max = 4820,\n",
    "    step = 1,\n",
    "    description='Maximum basement area size',\n",
    "    disable=False,\n",
    "    style = style\n",
    ")\n",
    "\n",
    "# Iterative buttons 5\n",
    "condition_type = widgets.Dropdown(\n",
    "    options= df['condition_type'].unique().tolist(),\n",
    "    value='good',\n",
    "    description='Condition',\n",
    "    disable=False\n",
    ")\n",
    "\n",
    "# Iterative buttons 6\n",
    "yr_built_select = widgets.Dropdown(\n",
    "    options= df['yr_built'].unique().tolist(),\n",
    "    value=1900,\n",
    "    description='Yr_built',\n",
    "    disable=False\n",
    ")\n",
    "\n",
    "##############################################################################################################################\n",
    "\n",
    "def update_map( df, living_room_limit, minimum_bathrooms_limit, maximum_price_limit, maximum_basement_area_size_limit,\n",
    "              condition_type_defined, yr_built_select_defined):\n",
    "    houses = df[(df['sqft_living'] <= living_room_limit) & \n",
    "                (df['bathrooms'] <= minimum_bathrooms_limit) &\n",
    "                (df['price'] <= maximum_price_limit) &\n",
    "                (df['sqft_basement'] <= maximum_basement_area_size_limit) &\n",
    "                (df['condition_type'] == condition_type_defined) &\n",
    "                (df['yr_built'] == yr_built_select_defined)]\n",
    "    \n",
    "##############################################################################################################################\n",
    "\n",
    "    # plotando o gráfico\n",
    "    fig = px.scatter_mapbox(houses,\n",
    "                            lat='lat',\n",
    "                            lon='long',\n",
    "                            color='level',\n",
    "                            size='price',\n",
    "                            color_continuous_scale=px.colors.cyclical.IceFire,\n",
    "                            size_max=15,\n",
    "                            zoom=10 )\n",
    "                        \n",
    "    fig.update_layout( mapbox_style='open-street-map')\n",
    "    fig.update_layout( height=600, margin={'r':0, 't':0, 'l':0, 'b':0})\n",
    "    fig.show()"
   ]
  },
  {
   "cell_type": "code",
   "execution_count": null,
   "metadata": {
    "ExecuteTime": {
     "end_time": "2021-02-04T21:24:04.585923Z",
     "start_time": "2021-02-04T21:24:04.312092Z"
    },
    "hidden": true,
    "scrolled": true
   },
   "outputs": [],
   "source": [
    "widgets.interactive( update_map, df=fixed( df ), living_room_limit=living_room_size, minimum_bathrooms_limit=minimum_bathrooms,\n",
    "                   maximum_price_limit=maximum_price, maximum_basement_area_size_limit=maximum_basement_area_size, \n",
    "                    condition_type_defined=condition_type, yr_built_select_defined=yr_built_select)"
   ]
  },
  {
   "cell_type": "markdown",
   "metadata": {
    "ExecuteTime": {
     "end_time": "2021-02-04T21:02:44.323161Z",
     "start_time": "2021-02-04T21:02:44.316165Z"
    }
   },
   "source": [
    "### DEPOIS  (códigos formatados seguindo a lógica de ETL)\n",
    "* Código 1 (mapa)"
   ]
  },
  {
   "cell_type": "code",
   "execution_count": 1,
   "metadata": {
    "ExecuteTime": {
     "end_time": "2021-02-10T21:16:11.605107Z",
     "start_time": "2021-02-10T21:16:08.522961Z"
    },
    "scrolled": false
   },
   "outputs": [
    {
     "data": {
      "application/vnd.jupyter.widget-view+json": {
       "model_id": "bbb7ded98f1943bca143a6d6266b26f2",
       "version_major": 2,
       "version_minor": 0
      },
      "text/plain": [
       "interactive(children=(IntSlider(value=13540, description='Minimum living size', max=13540, min=290, style=Slid…"
      ]
     },
     "metadata": {},
     "output_type": "display_data"
    }
   ],
   "source": [
    "# Libraries\n",
    "\n",
    "import pandas as pd\n",
    "import ipywidgets as widgets\n",
    "from ipywidgets import fixed\n",
    "import plotly.express as px\n",
    "#---------------------------------------------------------------------------------------------------------------------------\n",
    "\n",
    "# Functions\n",
    "\n",
    "def data_collect( path ):\n",
    "    # Function 1 (load dataset)\n",
    "    data = pd.read_csv( path)\n",
    "    \n",
    "    return data\n",
    "#---------------------------------------------------------------------------------------------------------------------------\n",
    "def data_transform( data):\n",
    "  # Function 2: Criar colunas com determinadas condições:\n",
    "    data['level'] = data['price'].apply( lambda x:0 if x< 321950 else\n",
    "                                              1 if( x > 321950) & ( x < 450000) else\n",
    "                                              2 if( x > 450000) & ( x < 645000) else 3)\n",
    "\n",
    "    data['condition_type'] = data['condition'].apply( lambda x: 'bad' if x <= 2  else\n",
    "                                                                'good' if x == 5 else\n",
    "                                                                'regular' )\n",
    "    return data\n",
    "#---------------------------------------------------------------------------------------------------------------------------\n",
    "def data_load( data, living_room_limit, minimum_bathrooms_limit, maximum_price_limit, maximum_basement_area_size_limit,\n",
    "              condition_type_defined, yr_built_select_defined ):\n",
    "    \n",
    "    # Function 3: Definindo filtros e plotando o mapa:\n",
    "    houses = data[(data['sqft_living'] <= living_room_limit) & \n",
    "                (data['bathrooms'] <= minimum_bathrooms_limit) &\n",
    "                (data['price'] <= maximum_price_limit) &\n",
    "                (data['sqft_basement'] <= maximum_basement_area_size_limit) &\n",
    "                (data['condition_type'] == condition_type_defined) &\n",
    "                (data['yr_built'] == yr_built_select_defined)]\n",
    "\n",
    "    # plotando o gráfico\n",
    "    fig = px.scatter_mapbox(houses,\n",
    "                            lat='lat',\n",
    "                            lon='long',\n",
    "                            color='level',\n",
    "                            size='price',\n",
    "                            color_continuous_scale=px.colors.cyclical.IceFire,\n",
    "                            size_max=15,\n",
    "                            zoom=10 )\n",
    "                        \n",
    "    fig.update_layout( mapbox_style='open-street-map')\n",
    "    fig.update_layout( height=600, margin={'r':0, 't':0, 'l':0, 'b':0})\n",
    "    fig.show()\n",
    "    \n",
    "\n",
    " #---------------------------------------------------------------------------------------------------------------------------   \n",
    "def main():\n",
    "        # ETL\n",
    "    \n",
    "    # Collect\n",
    "    #Function 1\n",
    "    data_raw = data_collect('datasets\\kc_house_data.csv')\n",
    "    \n",
    "    \n",
    "    # Transform\n",
    "    data_processing = data_transform( data_raw)\n",
    "    \n",
    "\n",
    "    # Function 3: Criar botões iterativos para o mapa:\n",
    "    style = {'description_width': 'initial'}\n",
    "\n",
    "     # Iterative buttons 1\n",
    "    living_room_size = widgets.IntSlider(\n",
    "        value = 13540,\n",
    "        min = 290,\n",
    "        max = 13540,\n",
    "        step = 1,\n",
    "        description='Minimum living size',\n",
    "        disable=False,\n",
    "        style = style)\n",
    "\n",
    "    # Iterative buttons 2\n",
    "    minimum_bathrooms = widgets.IntSlider(\n",
    "        value = 8,\n",
    "        min = 0,\n",
    "        max = 8,\n",
    "        step = 1,\n",
    "        description='Minimum number of bathrooms',\n",
    "        disable=False,\n",
    "        style = style)\n",
    "\n",
    "    # Iterative buttons 3\n",
    "    maximum_price = widgets.IntSlider(\n",
    "        value = 7700000,\n",
    "        min = 75000,\n",
    "        max = 7700000,\n",
    "        step = 1,\n",
    "        description='Maximum price',\n",
    "        disable=False,\n",
    "        style = style)\n",
    "\n",
    "    # Iterative buttons 4\n",
    "    maximum_basement_area_size = widgets.IntSlider(\n",
    "        value = 4820,\n",
    "        min = 0,\n",
    "        max = 4820,\n",
    "        step = 1,\n",
    "        description='Maximum basement area size',\n",
    "        disable=False,\n",
    "        style = style)\n",
    "\n",
    "    # Iterative buttons 5\n",
    "    condition_type = widgets.Dropdown(\n",
    "        options= data_processing['condition_type'].unique().tolist(),\n",
    "        value='good',\n",
    "        description='Condition',\n",
    "        disable=False)\n",
    "\n",
    "    # Iterative buttons 6\n",
    "    yr_built_select = widgets.Dropdown(\n",
    "        options= data_processing['yr_built'].unique().tolist(),\n",
    "        value=1900,\n",
    "        description='Yr_built',\n",
    "        disable=False)\n",
    " #--------------------------------------------------------------------------------------------------------------------------\n",
    "    # Load\n",
    "    # Function 5: Mostrando os botões com os filtros definidos:\n",
    "        \n",
    "    widgets.interact(data_load, data=fixed(data_processing), living_room_limit=living_room_size, \n",
    "                     minimum_bathrooms_limit=minimum_bathrooms, maximum_price_limit=maximum_price, \n",
    "                     maximum_basement_area_size_limit=maximum_basement_area_size,   \n",
    "                     condition_type_defined=condition_type, yr_built_select_defined=yr_built_select) \n",
    "    \n",
    "    \n",
    "main()\n",
    "#--------------------------------------------------------------------------------------------------------------------------"
   ]
  },
  {
   "cell_type": "markdown",
   "metadata": {
    "heading_collapsed": true
   },
   "source": [
    "### ANTES (como foi criado na aula 04)\n",
    "* Código 2 (dashboard)"
   ]
  },
  {
   "cell_type": "code",
   "execution_count": null,
   "metadata": {
    "ExecuteTime": {
     "end_time": "2021-02-10T20:58:21.499555Z",
     "start_time": "2021-02-10T20:58:16.356033Z"
    },
    "hidden": true
   },
   "outputs": [],
   "source": [
    "from matplotlib import pyplot as plt\n",
    "from matplotlib import gridspec\n",
    "import pandas as pd\n",
    "\n",
    "df = pd.read_csv('datasets/kc_house_data.csv')\n",
    "\n",
    "# change date format\n",
    "df['year'] = pd.to_datetime( df['date'] ).dt.strftime( '%Y' )\n",
    "df['date'] = pd.to_datetime( df['date'] ).dt.strftime( '%Y-%m-%d' )\n",
    "df['year_week'] = pd.to_datetime( df['date'] ).dt.strftime( '%Y-%U' )\n",
    "\n",
    "df['is_waterfront'] = df['waterfront'].apply( lambda x: 'yes' if x == 1 else 'no' )\n",
    "\n",
    "# Widgets to control available data\n",
    "date_available_limit = widgets.Dropdown(\n",
    "    options= df['date'].sort_values().unique().tolist(),\n",
    "    value='2014-05-02',\n",
    "    description='Disponivel',\n",
    "    disable=False\n",
    ")\n",
    "\n",
    "# Widgets to control renovated data\n",
    "yr_renovated_limit = widgets.Dropdown(\n",
    "    options= df['yr_renovated'].sort_values().unique().tolist(),\n",
    "    value=1934,\n",
    "    description='Renovação',\n",
    "    disable=False\n",
    ")\n",
    "\n",
    "# Widgets to control is waterfront (yes or no)\n",
    "waterfront_bar = widgets.Dropdown(\n",
    "    options= df['is_waterfront'].unique().tolist(),\n",
    "    value='yes',\n",
    "    description='Water View',\n",
    "    disable=False)\n",
    "\n",
    "########################################################################\n",
    "\n",
    "def update_map( df, available_limit, renovated_limit, waterfront_bar_select ):\n",
    "    # Filter data\n",
    "    df = df[(df['date'] >= available_limit) & \n",
    "                (df['yr_renovated'] >=renovated_limit) &\n",
    "                (df['is_waterfront'] ==waterfront_bar_select) ]\n",
    "        \n",
    "########################################################################\n",
    "    \n",
    "    fig = plt.figure( figsize=(21,12) )\n",
    "    specs = gridspec.GridSpec( ncols=2, nrows=2, figure=fig )\n",
    "    \n",
    "    ax1 = fig.add_subplot( specs[0, :] ) # First rows\n",
    "    ax2 = fig.add_subplot( specs[1, 0] ) # Second row First column\n",
    "    ax3 = fig.add_subplot( specs[1, 1] ) # Second row Second comuns\n",
    "    \n",
    "    by_year = df[['id', 'year']].groupby( 'year').sum().reset_index()\n",
    "    ax1.bar( by_year['year'], by_year['id'] )\n",
    "    ax1.set_title( 'title: Avg Price by year' )\n",
    "    \n",
    "    by_day = df[['id', 'date']].groupby( 'date').sum().reset_index()\n",
    "    ax2.plot( by_day['date'], by_day['id'] )\n",
    "    ax2.set_title( 'title: Avg Price by day' )\n",
    "    \n",
    "    by_week_of_year = df[['id', 'year_week']].groupby( 'year_week').mean().reset_index()\n",
    "    ax3.bar( by_week_of_year['year_week'], by_week_of_year['id'] )\n",
    "    ax3.set_title( 'title: Avg Price by Week Of Year' )\n",
    "    plt.xticks( rotation=60 );"
   ]
  },
  {
   "cell_type": "code",
   "execution_count": null,
   "metadata": {
    "ExecuteTime": {
     "end_time": "2021-02-10T20:58:24.274108Z",
     "start_time": "2021-02-10T20:58:21.503556Z"
    },
    "hidden": true,
    "scrolled": false
   },
   "outputs": [],
   "source": [
    "widgets.interactive(update_map, df=fixed( df ), available_limit=date_available_limit, renovated_limit=yr_renovated_limit, \n",
    "                    waterfront_bar_select=waterfront_bar)"
   ]
  },
  {
   "cell_type": "code",
   "execution_count": null,
   "metadata": {
    "ExecuteTime": {
     "end_time": "2021-02-06T13:58:26.605327Z",
     "start_time": "2021-02-06T13:58:26.559354Z"
    },
    "hidden": true
   },
   "outputs": [],
   "source": [
    "df.head()"
   ]
  },
  {
   "cell_type": "markdown",
   "metadata": {
    "ExecuteTime": {
     "end_time": "2021-02-04T21:02:44.323161Z",
     "start_time": "2021-02-04T21:02:44.316165Z"
    }
   },
   "source": [
    "### DEPOIS  (códigos formatados seguindo a lógica de ETL)\n",
    "* Código 2 (dashboard)"
   ]
  },
  {
   "cell_type": "code",
   "execution_count": 2,
   "metadata": {
    "ExecuteTime": {
     "end_time": "2021-02-10T21:16:27.604151Z",
     "start_time": "2021-02-10T21:16:23.468144Z"
    },
    "scrolled": false
   },
   "outputs": [
    {
     "data": {
      "application/vnd.jupyter.widget-view+json": {
       "model_id": "6cd99fc2969f49269f011d3d151348c3",
       "version_major": 2,
       "version_minor": 0
      },
      "text/plain": [
       "interactive(children=(Dropdown(description='Disponivel', options=('2014-05-02', '2014-05-03', '2014-05-04', '2…"
      ]
     },
     "metadata": {},
     "output_type": "display_data"
    }
   ],
   "source": [
    "# Libraries\n",
    "\n",
    "import pandas as pd\n",
    "from matplotlib import pyplot as plt \n",
    "from matplotlib import gridspec\n",
    "#---------------------------------------------------------------------------------------------------------------------------\n",
    "\n",
    "# Functions\n",
    "\n",
    "def data_collect( path ):\n",
    "    # Function 1 (load dataset)\n",
    "    data = pd.read_csv( path)\n",
    "    \n",
    "    return data\n",
    "\n",
    "def data_transform( data):\n",
    "\n",
    "    # change date format\n",
    "    data['year'] = pd.to_datetime( data['date'] ).dt.strftime( '%Y' )\n",
    "    data['date'] = pd.to_datetime( data['date'] ).dt.strftime( '%Y-%m-%d' )\n",
    "    data['year_week'] = pd.to_datetime( data['date'] ).dt.strftime( '%Y-%U' )\n",
    "\n",
    "    # condition waterfront\n",
    "    data['is_waterfront'] = data['waterfront'].apply( lambda x: 'yes' if x == 1 else 'no' )\n",
    "    \n",
    "    return data\n",
    "#---------------------------------------------------------------------------------------------------------------------------\n",
    "\n",
    "    \n",
    "def data_load( data, available_limit, renovated_limit, waterfront_bar_select ):\n",
    "    \n",
    "    # Filter data\n",
    "    data = data[(data['date'] >= available_limit) & \n",
    "                (data['yr_renovated'] >=renovated_limit) &\n",
    "                (data['is_waterfront'] ==waterfront_bar_select) ]\n",
    "            \n",
    "    # plotando os gráficos    \n",
    "    fig = plt.figure( figsize=(21,12) )\n",
    "    specs = gridspec.GridSpec( ncols=2, nrows=2, figure=fig )\n",
    "    \n",
    "    ax1 = fig.add_subplot( specs[0, :] ) # First rows\n",
    "    ax2 = fig.add_subplot( specs[1, 0] ) # Second row First column\n",
    "    ax3 = fig.add_subplot( specs[1, 1] ) # Second row Second comuns\n",
    "    \n",
    "    by_year = data[['id', 'year']].groupby( 'year').sum().reset_index()\n",
    "    ax1.bar( by_year['year'], by_year['id'] )\n",
    "    ax1.set_title( 'title: Avg Price by year' )\n",
    "    \n",
    "    by_day = data[['id', 'date']].groupby( 'date').sum().reset_index()\n",
    "    ax2.plot( by_day['date'], by_day['id'] )\n",
    "    ax2.set_title( 'title: Avg Price by day' )\n",
    "    \n",
    "    by_week_of_year = data[['id', 'year_week']].groupby( 'year_week').mean().reset_index()\n",
    "    ax3.bar( by_week_of_year['year_week'], by_week_of_year['id'] )\n",
    "    ax3.set_title( 'title: Avg Price by Week Of Year' )\n",
    "    plt.xticks( rotation=60 )\n",
    "    \n",
    "    # return None\n",
    " #---------------------------------------------------------------------------------------------------------------------------\n",
    "\n",
    "def main():\n",
    "    \n",
    "    # ETL\n",
    "    \n",
    "    # Collect\n",
    "    #Function 1\n",
    "    data_raw = data_collect('datasets\\kc_house_data.csv')\n",
    "    \n",
    "    \n",
    "    # Transform\n",
    "    data_processing = data_transform( data_raw)\n",
    "    \n",
    "\n",
    "    # Function 3: Criar botões iterativos para o mapa:\n",
    "    style = {'description_width': 'initial'}\n",
    "\n",
    "    \n",
    "     # Iterative buttons\n",
    "\n",
    "     # Widgets to control available data\n",
    "    date_available_limit = widgets.Dropdown(\n",
    "        options= data_processing['date'].sort_values().unique().tolist(),\n",
    "        value='2014-05-02',\n",
    "        description='Disponivel',\n",
    "        disable=False\n",
    "    )\n",
    "\n",
    "     # Widgets to control renovated data\n",
    "    yr_renovated_limit = widgets.Dropdown(\n",
    "        options= data_processing['yr_renovated'].sort_values().unique().tolist(),\n",
    "        value=1934,\n",
    "        description='Renovação',\n",
    "        disable=False\n",
    "    )\n",
    "\n",
    "     # Widgets to control is waterfront (yes or no)\n",
    "    waterfront_bar = widgets.Dropdown(\n",
    "        options= data_processing['is_waterfront'].unique().tolist(),\n",
    "        value='yes',\n",
    "        description='Water View',\n",
    "        disable=False)\n",
    "\n",
    "#--------------------------------------------------------------------------------------------------------------------------\n",
    "    # Load\n",
    "    # Function 5: Mostrando os botões com os filtros definidos:\n",
    "        \n",
    "    widgets.interact(data_load, data=fixed( data_processing ), available_limit=date_available_limit, \n",
    "                        renovated_limit=yr_renovated_limit, \n",
    "                        waterfront_bar_select=waterfront_bar) \n",
    "    \n",
    "    \n",
    "main()\n"
   ]
  },
  {
   "cell_type": "markdown",
   "metadata": {
    "heading_collapsed": true
   },
   "source": [
    "## 2. Refazer o gráfico e o dashboard com o Streamlit"
   ]
  },
  {
   "cell_type": "markdown",
   "metadata": {
    "heading_collapsed": true,
    "hidden": true
   },
   "source": [
    "### 3. Testar novos tipos de Filtros"
   ]
  },
  {
   "cell_type": "code",
   "execution_count": null,
   "metadata": {
    "hidden": true
   },
   "outputs": [],
   "source": [
    "# Código pronto para colar no PyCharm e plotar o mapa com streamlit\n",
    "\n",
    "import pandas as pd\n",
    "import numpy as np\n",
    "import streamlit as st\n",
    "import plotly.express as px\n",
    "\n",
    "\n",
    "st.title( 'House Rocket Company' )\n",
    "st.markdown( 'Welcome to House Rocket Data Analysis' )\n",
    "\n",
    "st.header( 'Load data' )\n",
    "\n",
    "# read data\n",
    "@st.cache( allow_output_mutation=True)\n",
    "def get_data( path ):\n",
    "    data = pd.read_csv( path )\n",
    "    data['date'] = pd.to_datetime( data['date'] )\n",
    "\n",
    "    return data\n",
    "\n",
    "# load data\n",
    "data = get_data( 'datasets/kc_house_data.csv')\n",
    "\n",
    "# plot map\n",
    "st.title( 'House Rocket Map')\n",
    "is_check = st.checkbox( 'Display Map' )\n",
    "\n",
    "# filter 1 (price)\n",
    "price_min = int( data ['price'].min() )\n",
    "price_max = int( data ['price'].max() )\n",
    "price_avg = int( data ['price'].mean() )\n",
    "\n",
    "price_slider = st.slider( 'Price Range',\n",
    "                          price_min,\n",
    "                          price_max,\n",
    "                          price_avg )\n",
    "\n",
    "# filter 2 (bathrooms)\n",
    "bathrooms_min = int( data ['bathrooms'].min() )\n",
    "bathrooms_max = int( data ['bathrooms'].max() )\n",
    "bathrooms_avg = int( data ['bathrooms'].mean() )\n",
    "\n",
    "bathrooms_slider = st.slider( 'Bathrooms Quantity',\n",
    "                          bathrooms_min,\n",
    "                          bathrooms_max,\n",
    "                          bathrooms_avg )\n",
    "if is_check:\n",
    "    # select rows\n",
    "    houses = data [(data['price'] < price_slider) & (data['bathrooms'] < bathrooms_slider)][['id', 'lat', 'long', 'price', 'bathrooms']]\n",
    "\n",
    "    # draw map\n",
    "    fig = px.scatter_mapbox(\n",
    "         houses,\n",
    "         lat='lat',\n",
    "         lon='long',\n",
    "         size='price',\n",
    "         color_continuous_scale=px.colors.cyclical.IceFire,\n",
    "         size_max=15,\n",
    "         zoom=10 )\n",
    "\n",
    "    fig.update_layout(mapbox_style='open-street-map')\n",
    "    fig.update_layout(height=600, margin={'r':0, 't':0, 'l':0, 'b':0})\n",
    "    st.plotly_chart( fig )"
   ]
  }
 ],
 "metadata": {
  "kernelspec": {
   "display_name": "Python 3",
   "language": "python",
   "name": "python3"
  },
  "language_info": {
   "codemirror_mode": {
    "name": "ipython",
    "version": 3
   },
   "file_extension": ".py",
   "mimetype": "text/x-python",
   "name": "python",
   "nbconvert_exporter": "python",
   "pygments_lexer": "ipython3",
   "version": "3.8.5"
  }
 },
 "nbformat": 4,
 "nbformat_minor": 4
}
