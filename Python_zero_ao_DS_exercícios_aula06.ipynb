{
 "cells": [
  {
   "cell_type": "markdown",
   "metadata": {
    "ExecuteTime": {
     "end_time": "2021-02-04T20:51:01.868148Z",
     "start_time": "2021-02-04T20:51:01.863150Z"
    }
   },
   "source": [
    "# Exercícios:"
   ]
  },
  {
   "cell_type": "markdown",
   "metadata": {},
   "source": [
    "# Requisições do CEO"
   ]
  },
  {
   "cell_type": "markdown",
   "metadata": {},
   "source": [
    "## 1. Gostaria de chegar de manhã na minha mesa e ter um lugar único onde eu possa observar o portfólio da House Rocket. Nesse portfólio, eu tenho interesse:"
   ]
  },
  {
   "cell_type": "markdown",
   "metadata": {},
   "source": [
    "### 1 Filtros dos imóveis por um ou várias regiões."
   ]
  },
  {
   "cell_type": "markdown",
   "metadata": {},
   "source": [
    "### 2 Escolher uma ou mais variáveis para visualizar."
   ]
  },
  {
   "cell_type": "markdown",
   "metadata": {},
   "source": [
    "### 3 Observar o número total de imóveis, a média de preço, a média da sala de estar e também a média do preço por metro quadrado em cada um dos códigos postais."
   ]
  },
  {
   "cell_type": "markdown",
   "metadata": {},
   "source": [
    "### 4 Analisar cada uma das colunas de um modo mais descritivo."
   ]
  },
  {
   "cell_type": "markdown",
   "metadata": {},
   "source": [
    "### 5 Um mapa com a densidade de portfólio por região e também densidade de preço."
   ]
  },
  {
   "cell_type": "markdown",
   "metadata": {},
   "source": [
    "### 6 Checar a variação anual de preço."
   ]
  },
  {
   "cell_type": "markdown",
   "metadata": {},
   "source": [
    "### 7 Checar a variação diária de preço."
   ]
  },
  {
   "cell_type": "markdown",
   "metadata": {
    "ExecuteTime": {
     "end_time": "2021-02-13T01:53:47.181317Z",
     "start_time": "2021-02-13T01:53:47.176324Z"
    }
   },
   "source": [
    "### 8 Conferir a distribuição dos imóveis por:\n",
    "#### * Preço.\n",
    "#### * Número de quartos.\n",
    "#### * Número de andares.\n",
    "#### * Vista para a água ou não."
   ]
  },
  {
   "cell_type": "code",
   "execution_count": null,
   "metadata": {
    "ExecuteTime": {
     "end_time": "2021-02-13T01:59:12.750300Z",
     "start_time": "2021-02-13T01:59:05.100973Z"
    }
   },
   "outputs": [],
   "source": [
    "# Código pronto para colar no PyCharm e plotar o mapa com streamlit\n",
    "\n",
    "import geopandas\n",
    "import streamlit as st\n",
    "import pandas as pd\n",
    "import numpy as np\n",
    "import folium\n",
    "\n",
    "from streamlit_folium import folium_static\n",
    "from folium.plugins import MarkerCluster\n",
    "\n",
    "st.set_page_config( layout='wide' )\n",
    "\n",
    "@st.cache( allow_output_mutation=True )\n",
    "def get_data( path ):\n",
    "    data = pd.read_csv( path )\n",
    "\n",
    "    return data\n",
    "\n",
    "@st.cache( allow_output_mutation=True )\n",
    "def get_geofile( url ):\n",
    "    geofile = geopandas.read_file( url )\n",
    "\n",
    "    return geofile\n",
    "\n",
    "# get data\n",
    "path = 'datasets/kc_house_data.csv'\n",
    "data = get_data( path )\n",
    "\n",
    "# get geofile\n",
    "url = 'https://opendata.arcgis.com/datasets/83fc2e72903343aabff6de8cb445b81c_2.geojson'\n",
    "geofile = get_geofile( url )\n",
    "\n",
    "# add new features\n",
    "data['price_m2'] = data['price'] / data['sqft_lot']\n",
    "\n",
    "# ==============================\n",
    "# Data Overview\n",
    "# ==============================\n",
    "f_attributes = st.sidebar.multiselect( 'Enter columns', data.columns)\n",
    "f_zipcode = st.sidebar.multiselect(\n",
    "    'Enter zipcode',\n",
    "    data['zipcode'].unique() )\n",
    "\n",
    "st.title( 'Data Overview')\n",
    "\n",
    "if ( f_zipcode != [] ) & ( f_attributes != [] ):\n",
    "    data = data.loc[data['zipcode'].isin( f_zipcode ), f_attributes]\n",
    "elif ( f_zipcode != [] ) & ( f_attributes == [] ):\n",
    "    data = data.loc[data['zipcode'].isin(f_zipcode), :]\n",
    "elif ( f_zipcode == [] ) & ( f_attributes != [] ):\n",
    "    data = data.loc[:, f_attributes]\n",
    "else:\n",
    "    data = data. copy()\n",
    "\n",
    "st.dataframe( data )\n",
    "\n",
    "\n",
    "c1, c2 = st.beta_columns((1, 1) )\n",
    "# Average metrics\n",
    "df1 = data[['id', 'zipcode']].groupby( 'zipcode' ).count().reset_index()\n",
    "df2 = data[['price', 'zipcode']].groupby( 'zipcode' ).mean().reset_index()\n",
    "df3 = data[['sqft_living', 'zipcode']].groupby( 'zipcode' ).mean().reset_index()\n",
    "df4 = data[['price_m2', 'zipcode']].groupby( 'zipcode' ).mean().reset_index()\n",
    "\n",
    "# merge\n",
    "m1 = pd.merge( df1, df2, on='zipcode', how='inner' )\n",
    "m2 = pd.merge( m1, df3, on='zipcode', how='inner' )\n",
    "df = pd.merge( m2, df4, on='zipcode', how='inner' )\n",
    "# definindo o nome das colunas\n",
    "df.columns = ['ZIPCODE', 'TOTAL HOUSES', 'PRICE', 'SQFT LIVING', 'PRICE/M2']\n",
    "\n",
    "c1.header( 'Average Values')\n",
    "c1.dataframe( df, height=600 )\n",
    "\n",
    "# Statistic Descriptive\n",
    "num_attributes = data.select_dtypes( include=['int64', 'float64'] )\n",
    "media = pd.DataFrame( num_attributes.apply( np.mean ) )\n",
    "mediana = pd.DataFrame( num_attributes.apply( np.median ) )\n",
    "std = pd.DataFrame( num_attributes.apply( np.std ) )\n",
    "\n",
    "max_ = pd.DataFrame( num_attributes.apply( np.max ) )\n",
    "min_ = pd.DataFrame( num_attributes.apply( np.min ) )\n",
    "\n",
    "df1 = pd.concat([max_, min_, media, mediana, std], axis=1 ).reset_index()\n",
    "\n",
    "df1.columns = ['attributes', 'max', 'min', 'mean', 'median', 'std']\n",
    "c2.header( 'Descriptive Analysis')\n",
    "c2.dataframe( df1, height=600 )\n",
    "\n",
    "# ==============================\n",
    "# Densidade de Portfolio\n",
    "# ==============================\n",
    "st.title( 'Regio Overview' )\n",
    "\n",
    "c1, c2 = st.beta_columns( (1, 1 ) )\n",
    "c1.header( 'Portfolio Desity' )\n",
    "\n",
    "df = data.sample( 10 )\n",
    "\n",
    "# Base Map - Folium\n",
    "density_map = folium.Map( location=[data['lat'].mean(),\n",
    "                                    data['long'].mean() ],\n",
    "                                    default_zoom_start=15 )\n",
    "\n",
    "marker_cluster = MarkerCluster().add_to( density_map)\n",
    "for name, row in df.iterrows():\n",
    "    folium.Marker( [row['lat'], row['long'] ],\n",
    "                   popup='Sold R${0} on: {1}. Features: {2} sqft, {3} bedrooms, {4} bathrooms, year built: {5}'.format( row['price'],\n",
    "                                                                                                                        row['date'],\n",
    "                                                                                                                        row['sqft_living'],\n",
    "                                                                                                                        row['bedrooms'],\n",
    "                                                                                                                        row['bathrooms'],\n",
    "                                                                                                                        row['yr_built'])).add_to( marker_cluster )\n",
    "\n",
    "\n",
    "with c1:\n",
    "    folium_static( density_map )\n",
    "\n",
    "# Region Price Map\n",
    "c2.header( 'Price Density')\n",
    "\n",
    "df = data[['price', 'zipcode']].groupby('zipcode').mean().reset_index()\n",
    "df.columns = ['ZIP', 'PRICE']\n",
    "\n",
    "# df = df.sample( 10 )\n",
    "\n",
    "geofile = geofile[geofile['ZIP'].isin( df['ZIP'].tolist() )]\n",
    "\n",
    "region_price_map = folium.Map( location=[data['lat'].mean(),\n",
    "                                         data['long'].mean() ],\n",
    "                                         default_zoom_start=15 )\n",
    "\n",
    "region_price_map.choropleth( data = df,\n",
    "                             geo_data = geofile,\n",
    "                             columns=['ZIP', 'PRICE'],\n",
    "                             key_on='feature.properties.ZIP',\n",
    "                             fill_color='YlOrRd',\n",
    "                             fill_opacity = 0.7,\n",
    "                             line_opacity = 0.2,\n",
    "                             legend_name='AVG PRICE' )\n",
    "\n",
    "with c2:\n",
    "    folium_static( region_price_map )\n",
    "\n",
    "\n",
    "\n",
    "\n",
    "# attributes + zipcode = Selecionar Colunas e Linhas\n",
    "# attributes =           Selecionar colunas\n",
    "# zipcode =              Selecionar Linhas\n",
    "# 0 + 0 =                Retorno o dataset original"
   ]
  }
 ],
 "metadata": {
  "kernelspec": {
   "display_name": "Python 3",
   "language": "python",
   "name": "python3"
  },
  "language_info": {
   "codemirror_mode": {
    "name": "ipython",
    "version": 3
   },
   "file_extension": ".py",
   "mimetype": "text/x-python",
   "name": "python",
   "nbconvert_exporter": "python",
   "pygments_lexer": "ipython3",
   "version": "3.8.5"
  }
 },
 "nbformat": 4,
 "nbformat_minor": 4
}
