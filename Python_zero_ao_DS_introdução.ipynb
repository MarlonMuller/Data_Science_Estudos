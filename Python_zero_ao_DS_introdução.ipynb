{
 "cells": [
  {
   "cell_type": "markdown",
   "metadata": {},
   "source": [
    "Antes de começar... gostaria de reforçar que os arquivos inciados com \"Python_zero_ao_DS\" referem-se aos conhecimentos adquiridos durante o curso ministrado pelo cientista de dados Meigarom Lopes.\n",
    "\n",
    "Mais informações abaixo."
   ]
  },
  {
   "cell_type": "markdown",
   "metadata": {},
   "source": [
    "# Alguns dados sobre o projeto de estudo"
   ]
  },
  {
   "cell_type": "markdown",
   "metadata": {
    "ExecuteTime": {
     "end_time": "2021-01-26T22:26:27.439758Z",
     "start_time": "2021-01-26T22:26:27.427764Z"
    }
   },
   "source": [
    "Curso: Curso de Python do ZERO ao DS (https://www.youtube.com/watch?v=1xXK_z9M6yk&list=PLZlkyCIi8bMprZgBsFopRQMG_Kj1IA1WG)\n",
    "\n",
    "Professor: Meigarom Lopes (https://www.instagram.com/meigarom.datascience)\n",
    "\n",
    "Dados: Kaggle (https://www.kaggle.com/harlfoxem/housesalesprediction)\n",
    "\n",
    "Projeto: Projeto de Insights (https://sejaumdatascientist.com/os-5-projetos-de-data-science-que-fara-o-recrutador-olhar-para-voce)"
   ]
  },
  {
   "cell_type": "markdown",
   "metadata": {},
   "source": [
    "# Problema de negócio"
   ]
  },
  {
   "cell_type": "markdown",
   "metadata": {},
   "source": [
    " A House Rocket é uma plataforma digital que tem como modelo de negócio, a compra e a venda de imóveis usando tecnologia.\n",
    "\n",
    " Você é um Data Scientist contrato pela empresa para ajudar a encontrar as melhores oportunidades de negócio no mercado de imóveis. O CEO da House Rocket gostaria de maximizar a receita da empresa encontrando boas oportunidades de negócio.\n",
    "\n",
    " Sua principal estratégia é comprar boas casas em ótimas localizações com preços baixos e depois revendê-las posteriormente à preços mais altos. Quanto maior a diferença entre a compra e a venda, maior o lucro da empresa e portanto maior sua receita.\n",
    "\n",
    " Entretanto, as casas possuem muitos atributos que as tornam mais ou menos atrativas aos compradores e vendedores e a localização e o período do ano também podem influenciar os preços."
   ]
  },
  {
   "cell_type": "markdown",
   "metadata": {},
   "source": [
    "# Dicionários das variáveis"
   ]
  },
  {
   "cell_type": "markdown",
   "metadata": {},
   "source": [
    "id - número de identificação do imóvel\n",
    "\n",
    "date - data de venda do imóvel\n",
    "\n",
    "price - preço de venda do imóvel\n",
    "\n",
    "bedrooms - número de quartos\n",
    "\n",
    "bathrooms - número de banheiros, sendo 0.5 referente aos banheiros sem chuveiro (lavabo)\n",
    "\n",
    "sqft_living - metragem (em pé quadrado) da área interna do imóvel\n",
    "\n",
    "sqft_lot - metragem (em pé quadrado) do terreno\n",
    "\n",
    "floors - número de andares\n",
    "\n",
    "waterfront - se o imóvel tem vista para o mar (0: não, 1: sim)\n",
    "\n",
    "view - diz respeito à qualidade da vista do imóvel (0 a 4)\n",
    "\n",
    "condition - diz respeito à condição do imóvel (1 a 5)\n",
    "\n",
    "grade - trata da construção e design do imóvel (1-3: baixa qualidade, 7: qualidade média, 11-13: alta qualidade)\n",
    "\n",
    "sqft_above - metragem (em pé quadrado) do espaço interno que está acima do nível do solo\n",
    "\n",
    "sqft_basement - metragem (em pé quadrado) do espaço interno que está abaixo do nível do solo\n",
    "\n",
    "yr_built - ano de construção do imóvel\n",
    "\n",
    "yr_renovated - ano de reforma do imóvel\n",
    "\n",
    "zipcode - CEP do imóvel\n",
    "\n",
    "lat - latitude\n",
    "\n",
    "long - longitude\n",
    "\n",
    "sqft_living15 - média da metragem (em pé quadrado) da área interna do imóvel dos 15 vizinhos mais próximos\n",
    "\n",
    "sqft_lot15 - média da metragem (em pé quadrado) do terreno dos 15 vizinhos mais próximos"
   ]
  }
 ],
 "metadata": {
  "kernelspec": {
   "display_name": "Python 3",
   "language": "python",
   "name": "python3"
  },
  "language_info": {
   "codemirror_mode": {
    "name": "ipython",
    "version": 3
   },
   "file_extension": ".py",
   "mimetype": "text/x-python",
   "name": "python",
   "nbconvert_exporter": "python",
   "pygments_lexer": "ipython3",
   "version": "3.8.5"
  }
 },
 "nbformat": 4,
 "nbformat_minor": 4
}
